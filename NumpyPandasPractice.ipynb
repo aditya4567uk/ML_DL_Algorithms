{
 "cells": [
  {
   "cell_type": "code",
   "execution_count": 1,
   "id": "8114567a",
   "metadata": {},
   "outputs": [
    {
     "name": "stdout",
     "output_type": "stream",
     "text": [
      "1.26.0\n"
     ]
    }
   ],
   "source": [
    "import numpy as np\n",
    "print(np.__version__)"
   ]
  },
  {
   "cell_type": "code",
   "execution_count": 2,
   "id": "5f33977e",
   "metadata": {},
   "outputs": [],
   "source": [
    "import pandas as pd"
   ]
  },
  {
   "cell_type": "code",
   "execution_count": 19,
   "id": "0797358a",
   "metadata": {},
   "outputs": [
    {
     "name": "stdout",
     "output_type": "stream",
     "text": [
      "[[1 2 3 4 5 6]\n",
      " [4 8 3 0 1 5]]\n"
     ]
    }
   ],
   "source": [
    "#CONVERT LISTS INTO NUMPY ARRAYS\n",
    "l = [[1,2,3,4,5,6],[4,8,3,0,1,5]]\n",
    "n = np.array(l)\n",
    "print(n)"
   ]
  },
  {
   "cell_type": "code",
   "execution_count": 23,
   "id": "da5140ed",
   "metadata": {},
   "outputs": [
    {
     "name": "stdout",
     "output_type": "stream",
     "text": [
      "2\n",
      "(2, 6)\n",
      "12\n",
      "int32\n"
     ]
    }
   ],
   "source": [
    "#CHECKING PROPERTIES OF OUR ARRAY(n)\n",
    "print(n.ndim) #Shows Dimensionality of our Array(n) --> 1D, 2D, 3D ...ETC\n",
    "print(n.shape) #Shows Shape of Array --> number of rows and cols\n",
    "print(n.size) #Shows the size of Array --> number of total elements in Array\n",
    "print(n.dtype) #Shows the datatype of element holded inside Array --> int32,int64,float32,float64 ETC"
   ]
  },
  {
   "cell_type": "code",
   "execution_count": 22,
   "id": "fa25e63a",
   "metadata": {},
   "outputs": [
    {
     "data": {
      "text/plain": [
       "array([[2, 3, 4, 5, 6, 7],\n",
       "       [5, 9, 4, 1, 2, 6]])"
      ]
     },
     "execution_count": 22,
     "metadata": {},
     "output_type": "execute_result"
    }
   ],
   "source": [
    "#Scalar Addtion to matrix --> We dont have to loop through each element in Numpy Arrays\n",
    "n=n+1\n",
    "n"
   ]
  },
  {
   "cell_type": "code",
   "execution_count": 28,
   "id": "95c8c95d",
   "metadata": {},
   "outputs": [
    {
     "data": {
      "text/plain": [
       "array([[ 4,  6,  8, 10, 12, 14],\n",
       "       [10, 18,  8,  2,  4, 12]])"
      ]
     },
     "execution_count": 28,
     "metadata": {},
     "output_type": "execute_result"
    }
   ],
   "source": [
    "#Scalar Multiplication\n",
    "n = n*2\n",
    "n"
   ]
  },
  {
   "cell_type": "code",
   "execution_count": 29,
   "id": "26f8eab5",
   "metadata": {},
   "outputs": [
    {
     "data": {
      "text/plain": [
       "array([[ 2,  4,  6,  8, 10, 12],\n",
       "       [ 8, 16,  6,  0,  2, 10]])"
      ]
     },
     "execution_count": 29,
     "metadata": {},
     "output_type": "execute_result"
    }
   ],
   "source": [
    "#Scalar Subtraction\n",
    "n = n-2\n",
    "n"
   ]
  },
  {
   "cell_type": "code",
   "execution_count": 30,
   "id": "a51fc2d7",
   "metadata": {},
   "outputs": [
    {
     "data": {
      "text/plain": [
       "array([[1., 2., 3., 4., 5., 6.],\n",
       "       [4., 8., 3., 0., 1., 5.]])"
      ]
     },
     "execution_count": 30,
     "metadata": {},
     "output_type": "execute_result"
    }
   ],
   "source": [
    "#Scalar Dvision\n",
    "n = n/2\n",
    "n"
   ]
  },
  {
   "cell_type": "code",
   "execution_count": 26,
   "id": "ed1422a4",
   "metadata": {},
   "outputs": [
    {
     "name": "stdout",
     "output_type": "stream",
     "text": [
      "(6, 2)\n",
      "[[2 5]\n",
      " [3 9]\n",
      " [4 4]\n",
      " [5 1]\n",
      " [6 2]\n",
      " [7 6]]\n"
     ]
    }
   ],
   "source": [
    "#Perform Transpose of a Matrix (Array)\n",
    "transpose = n.T\n",
    "print(transpose.shape)\n",
    "print(transpose)"
   ]
  },
  {
   "cell_type": "code",
   "execution_count": 27,
   "id": "6cd38547",
   "metadata": {},
   "outputs": [
    {
     "name": "stdout",
     "output_type": "stream",
     "text": [
      "[[1 1 1]\n",
      " [1 1 1]]\n"
     ]
    }
   ],
   "source": [
    "#Array Creation methods - Using np.ones()\n",
    "#It creates array containing only 1s by passing number of rows, cols as tuple in arguments\n",
    "rows,cols = 2,3\n",
    "ones = np.ones((rows,cols),dtype='int32')\n",
    "print(ones)"
   ]
  },
  {
   "cell_type": "code",
   "execution_count": 33,
   "id": "01fd35ba",
   "metadata": {},
   "outputs": [
    {
     "data": {
      "text/plain": [
       "array([[0., 0., 0.],\n",
       "       [0., 0., 0.]], dtype=float32)"
      ]
     },
     "execution_count": 33,
     "metadata": {},
     "output_type": "execute_result"
    }
   ],
   "source": [
    "zeros = np.zeros((rows,cols), dtype='float32')\n",
    "zeros"
   ]
  },
  {
   "cell_type": "code",
   "execution_count": 37,
   "id": "d7d20eb5",
   "metadata": {},
   "outputs": [
    {
     "data": {
      "text/plain": [
       "array([2, 4, 6, 8])"
      ]
     },
     "execution_count": 37,
     "metadata": {},
     "output_type": "execute_result"
    }
   ],
   "source": [
    "arange = np.arange(2,9,2)\n",
    "arange"
   ]
  },
  {
   "cell_type": "code",
   "execution_count": 40,
   "id": "64dbac9c",
   "metadata": {},
   "outputs": [
    {
     "data": {
      "text/plain": [
       "array([2.        , 3.16666667, 4.33333333, 5.5       , 6.66666667,\n",
       "       7.83333333, 9.        ])"
      ]
     },
     "execution_count": 40,
     "metadata": {},
     "output_type": "execute_result"
    }
   ],
   "source": [
    "linspace = np.linspace(2,9,7)\n",
    "linspace"
   ]
  },
  {
   "cell_type": "code",
   "execution_count": 41,
   "id": "71e6ed3b",
   "metadata": {},
   "outputs": [
    {
     "name": "stdout",
     "output_type": "stream",
     "text": [
      "[[0.]\n",
      " [0.]\n",
      " [0.]\n",
      " [0.]\n",
      " [0.]\n",
      " [0.]]\n"
     ]
    }
   ],
   "source": [
    "print(zeros.reshape(6,1))"
   ]
  },
  {
   "cell_type": "code",
   "execution_count": 58,
   "id": "32aef9b1",
   "metadata": {},
   "outputs": [
    {
     "name": "stdout",
     "output_type": "stream",
     "text": [
      "[0.17571157 0.99950176 0.41278619 0.00398696 0.11176873 0.99486958\n",
      " 0.87620824 0.40839559 0.83600765 0.97905791]\n",
      "0.9995017644987799\n"
     ]
    }
   ],
   "source": [
    "#random number generation\n",
    "\n",
    "rng = np.random.default_rng(1445)\n",
    "random_arr =rng.random(10)\n",
    "print(random_arr)\n",
    "print(random_arr[1])"
   ]
  },
  {
   "cell_type": "code",
   "execution_count": 61,
   "id": "46e74c22",
   "metadata": {},
   "outputs": [
    {
     "name": "stdout",
     "output_type": "stream",
     "text": [
      "[-6.8912135  -0.67786651 15.87925261  4.93974419 12.202309    8.77103791]\n"
     ]
    }
   ],
   "source": [
    "rng = np.random.default_rng(123)\n",
    "normal = rng.normal(3,10,6)\n",
    "print(normal)"
   ]
  },
  {
   "cell_type": "code",
   "execution_count": 62,
   "id": "54db6c6c",
   "metadata": {},
   "outputs": [
    {
     "name": "stdout",
     "output_type": "stream",
     "text": [
      "[9 5 7 5 1 5 9 9]\n"
     ]
    }
   ],
   "source": [
    "rng = np.random.default_rng(99)\n",
    "integer = rng.integers(0,10,8)\n",
    "print(integer)"
   ]
  },
  {
   "cell_type": "code",
   "execution_count": 68,
   "id": "39944999",
   "metadata": {},
   "outputs": [
    {
     "name": "stdout",
     "output_type": "stream",
     "text": [
      "5\n",
      "[5 7 5 1 5 9 9]\n",
      "[5 7 5 1]\n",
      "[9 5 7 5 1 5]\n",
      "[5 5 5 9]\n"
     ]
    }
   ],
   "source": [
    "#INDEXING & SLICING\n",
    "\n",
    "print(integer[1])\n",
    "print(integer[1:])\n",
    "print(integer[1:5])\n",
    "print(integer[:6])\n",
    "print(integer[1::2])"
   ]
  },
  {
   "cell_type": "code",
   "execution_count": 78,
   "id": "7eb9213b",
   "metadata": {},
   "outputs": [
    {
     "name": "stdout",
     "output_type": "stream",
     "text": [
      "[9 7 9 9]\n",
      "[9 5 5 1 5 9 9]\n",
      "[7]\n",
      "[9 9 9]\n"
     ]
    }
   ],
   "source": [
    "#Filtering data\n",
    "filtered_array = integer[integer>=7]\n",
    "print(filtered_array)\n",
    "\n",
    "filtered_array2 = integer[integer!=7]\n",
    "print(filtered_array2)\n",
    "\n",
    "mask1 = ((integer>=6) & (integer<9))\n",
    "filtered_array3 = integer[mask]\n",
    "print(filtered_array3)\n",
    "\n",
    "mask1 = ((integer==6) | (integer==9))\n",
    "filtered_array4 = integer[mask]\n",
    "print(filtered_array4)"
   ]
  },
  {
   "cell_type": "code",
   "execution_count": 82,
   "id": "20ce43a8",
   "metadata": {},
   "outputs": [
    {
     "name": "stdout",
     "output_type": "stream",
     "text": [
      "[9 5 7 5 1 5 9 9]\n"
     ]
    },
    {
     "data": {
      "text/plain": [
       "array(['No', 'Yes', 'No', 'Yes', 'Yes', 'Yes', 'No', 'No'], dtype='<U3')"
      ]
     },
     "execution_count": 82,
     "metadata": {},
     "output_type": "execute_result"
    }
   ],
   "source": [
    "#Numpy .where()\n",
    "\n",
    "print(integer)\n",
    "np.where(integer<7,\"Yes\",\"No\")"
   ]
  },
  {
   "cell_type": "code",
   "execution_count": 89,
   "id": "5813cfec",
   "metadata": {},
   "outputs": [
    {
     "name": "stdout",
     "output_type": "stream",
     "text": [
      "50\n",
      "6.25\n",
      "2.6339134382131846\n",
      "1\n",
      "9\n"
     ]
    }
   ],
   "source": [
    "#Aggregation methodas - min, max, sum, stddev, mean\n",
    "\n",
    "print(integer.sum())\n",
    "print(integer.mean())\n",
    "print(integer.std())\n",
    "print(integer.min())\n",
    "print(integer.max())"
   ]
  },
  {
   "cell_type": "code",
   "execution_count": 93,
   "id": "75522e8e",
   "metadata": {},
   "outputs": [
    {
     "name": "stdout",
     "output_type": "stream",
     "text": [
      "[6 8 3 0 3]\n",
      "[7 8]\n",
      "[3.5 7.5 2.5 0.  3. ]\n",
      "[2.8 3.8]\n"
     ]
    }
   ],
   "source": [
    "##Aggregation across rows (for rows--> axis=0, for cols--> axis=1)\n",
    "l1= [[1,7,3,0,3],[6,8,2,0,3]]\n",
    "l1 = np.array(l1)\n",
    "print(l1.max(axis=0))\n",
    "print(l1.max(axis=1))\n",
    "\n",
    "print(l1.mean(axis=0))\n",
    "print(l1.mean(axis=1))"
   ]
  },
  {
   "cell_type": "code",
   "execution_count": 97,
   "id": "9c81394b",
   "metadata": {},
   "outputs": [
    {
     "name": "stdout",
     "output_type": "stream",
     "text": [
      "[0 1 3 4 5 7]\n"
     ]
    }
   ],
   "source": [
    "#np.unique() method --> Return Unique element from array\n",
    "l1= [1,1,3,7,3,4,0,5]\n",
    "print(np.unique(l1))"
   ]
  },
  {
   "cell_type": "code",
   "execution_count": 98,
   "id": "bc90f9d9",
   "metadata": {},
   "outputs": [
    {
     "name": "stdout",
     "output_type": "stream",
     "text": [
      "[1.         1.         1.73205081 2.64575131 1.73205081 2.\n",
      " 0.         2.23606798]\n"
     ]
    }
   ],
   "source": [
    "#np.sqrt() --> return sqrt for each elements in array\n",
    "print(np.sqrt(l1))"
   ]
  },
  {
   "cell_type": "code",
   "execution_count": 102,
   "id": "3da91276",
   "metadata": {},
   "outputs": [
    {
     "name": "stdout",
     "output_type": "stream",
     "text": [
      "[1, 1, 3, 7, 3, 4, 0, 5]\n",
      "[0, 1, 1, 3, 3, 4, 5, 7]\n"
     ]
    }
   ],
   "source": [
    "#Sorting arrays\n",
    "l1= [1,1,3,7,3,4,0,5]\n",
    "print(l1)\n",
    "l1.sort()\n",
    "print(l1)"
   ]
  },
  {
   "cell_type": "code",
   "execution_count": 7,
   "id": "cb271fda",
   "metadata": {},
   "outputs": [
    {
     "name": "stdout",
     "output_type": "stream",
     "text": [
      "[[1 7 3 0 3]\n",
      " [0 8 2 0 3]]\n",
      "[[0 7 2 0 3]\n",
      " [1 8 3 0 3]]\n"
     ]
    },
    {
     "data": {
      "text/plain": [
       "'\\nprint(l1)\\nnp.sort(l1,axis=0)\\nprint(l1)'"
      ]
     },
     "execution_count": 7,
     "metadata": {},
     "output_type": "execute_result"
    }
   ],
   "source": [
    "#Sorting arrays across rows(axis=0) & cols(axis=1)\n",
    "l1= [[1,7,3,0,3],[0,8,2,0,3]]\n",
    "l1 = np.array(l1)\n",
    "print(l1)\n",
    "l1 =l1.T\n",
    "l1.sort()\n",
    "l1 = l1.T\n",
    "print(l1)\n",
    "\n",
    "'''\n",
    "print(l1)\n",
    "np.sort(l1,axis=0)\n",
    "print(l1)'''"
   ]
  },
  {
   "cell_type": "code",
   "execution_count": 3,
   "id": "48fb4686",
   "metadata": {},
   "outputs": [
    {
     "name": "stdout",
     "output_type": "stream",
     "text": [
      "2.2.2\n"
     ]
    }
   ],
   "source": [
    "print(pd.__version__)"
   ]
  },
  {
   "cell_type": "code",
   "execution_count": 23,
   "id": "81088ae0",
   "metadata": {},
   "outputs": [
    {
     "data": {
      "text/plain": [
       "0    10\n",
       "1    20\n",
       "2    30\n",
       "3    40\n",
       "4    50\n",
       "5    60\n",
       "Name: sales_column, dtype: int64"
      ]
     },
     "execution_count": 23,
     "metadata": {},
     "output_type": "execute_result"
    }
   ],
   "source": [
    "#Making a Series of data from List --> A series is nothing but collection of data in column fashion mapped with index values\n",
    "sales = [10,20,30,40,50,60]\n",
    "sales_series = pd.Series(sales,name='sales_column')\n",
    "sales_series"
   ]
  },
  {
   "cell_type": "code",
   "execution_count": 24,
   "id": "323ebe94",
   "metadata": {},
   "outputs": [
    {
     "name": "stdout",
     "output_type": "stream",
     "text": [
      "[10 20 30 40 50 60]\n",
      "RangeIndex(start=0, stop=6, step=1)\n",
      "sales_column\n",
      "int64\n"
     ]
    }
   ],
   "source": [
    "#Properties of series--> values, index, name, dtype\n",
    "print(sales_series.values)\n",
    "print(sales_series.index)\n",
    "print(sales_series.name)\n",
    "print(sales_series.dtype)"
   ]
  },
  {
   "cell_type": "code",
   "execution_count": 30,
   "id": "f294ff63",
   "metadata": {},
   "outputs": [
    {
     "data": {
      "text/plain": [
       "0    10.0\n",
       "1    20.0\n",
       "2    30.0\n",
       "3    40.0\n",
       "4    50.0\n",
       "5    60.0\n",
       "Name: sales_column, dtype: float32"
      ]
     },
     "execution_count": 30,
     "metadata": {},
     "output_type": "execute_result"
    }
   ],
   "source": [
    "#Change datatype of a series\n",
    "sales_series = sales_series.astype('float32')\n",
    "sales_series"
   ]
  },
  {
   "cell_type": "code",
   "execution_count": 34,
   "id": "b76b1b12",
   "metadata": {},
   "outputs": [
    {
     "name": "stdout",
     "output_type": "stream",
     "text": [
      "10.0\n",
      "\n",
      "2    30.0\n",
      "3    40.0\n",
      "4    50.0\n",
      "5    60.0\n",
      "Name: sales_column, dtype: float32\n",
      "\n",
      "0    10.0\n",
      "2    30.0\n",
      "4    50.0\n",
      "Name: sales_column, dtype: float32"
     ]
    }
   ],
   "source": [
    "#Indexing & Slicing of series\n",
    "print(sales_series[0], end='\\n\\n')\n",
    "print(sales_series[2:],end='\\n\\n')\n",
    "print(sales_series[::2], end='')"
   ]
  },
  {
   "cell_type": "code",
   "execution_count": 38,
   "id": "2b0ab1fd",
   "metadata": {},
   "outputs": [
    {
     "name": "stdout",
     "output_type": "stream",
     "text": [
      "coffee         10\n",
      "tea            20\n",
      "sugar          30\n",
      "milk           40\n",
      "water          50\n",
      "milk_powder    60\n",
      "Name: sales, dtype: int64\n",
      "\n",
      "20\n",
      "\n",
      "tea      20\n",
      "sugar    30\n",
      "milk     40\n",
      "water    50\n",
      "Name: sales, dtype: int64\n"
     ]
    }
   ],
   "source": [
    "#Making custom index\n",
    "item = ['coffee','tea','sugar','milk','water','milk_powder']\n",
    "sales = [10,20,30,40,50,60]\n",
    "sales_series = pd.Series(sales, index=item, name='sales')"
   ]
  },
  {
   "cell_type": "code",
   "execution_count": 39,
   "id": "e9924d92",
   "metadata": {},
   "outputs": [
    {
     "name": "stdout",
     "output_type": "stream",
     "text": [
      "coffee         10\n",
      "tea            20\n",
      "sugar          30\n",
      "milk           40\n",
      "water          50\n",
      "milk_powder    60\n",
      "Name: sales, dtype: int64\n",
      "\n",
      "20\n",
      "\n",
      "tea      20\n",
      "sugar    30\n",
      "milk     40\n",
      "water    50\n",
      "Name: sales, dtype: int64\n"
     ]
    }
   ],
   "source": [
    "#Indexing & slicing on custom indexes\n",
    "print(sales_series,end='\\n\\n')\n",
    "print(sales_series['tea'],end='\\n\\n')\n",
    "print(sales_series['tea':'water'])"
   ]
  },
  {
   "cell_type": "code",
   "execution_count": 7,
   "id": "dac4c23b",
   "metadata": {},
   "outputs": [
    {
     "name": "stdout",
     "output_type": "stream",
     "text": [
      "coffee         10\n",
      "coffee         20\n",
      "sugar          30\n",
      "milk           40\n",
      "water          50\n",
      "milk_powder    60\n",
      "Name: sales, dtype: int64\n",
      "\n",
      "         index  sales\n",
      "0       coffee     10\n",
      "1       coffee     20\n",
      "2        sugar     30\n",
      "3         milk     40\n",
      "4        water     50\n",
      "5  milk_powder     60\n"
     ]
    }
   ],
   "source": [
    "#Reset index --> back to numerical indexing from custom index --> its a way to handle duplicate values in custom index \n",
    "item = ['coffee','coffee','sugar','milk','water','milk_powder']\n",
    "sales = [10,20,30,40,50,60]\n",
    "sales_series = pd.Series(sales, index=item, name='sales')\n",
    "print(sales_series,end='\\n\\n')\n",
    "\n",
    "sales_series=sales_series.reset_index()\n",
    "print(sales_series)"
   ]
  },
  {
   "cell_type": "code",
   "execution_count": 15,
   "id": "c4dfb32d",
   "metadata": {},
   "outputs": [
    {
     "name": "stdout",
     "output_type": "stream",
     "text": [
      "         index  sales\n",
      "0       coffee     10\n",
      "1       coffee     20\n",
      "2        sugar     30\n",
      "3         milk     40\n",
      "4        water     50\n",
      "5  milk_powder     60\n",
      "\n",
      "         index  sales\n",
      "5  milk_powder     60\n",
      "4        water     50\n",
      "3         milk     40\n",
      "2        sugar     30\n",
      "1       coffee     20\n",
      "0       coffee     10\n"
     ]
    }
   ],
   "source": [
    "#Sorting a series by column name\n",
    "print(sales_series.sort_values('sales'),end='\\n\\n')\n",
    "print(sales_series.sort_values('sales',ascending=False))"
   ]
  },
  {
   "cell_type": "code",
   "execution_count": 18,
   "id": "998ed37e",
   "metadata": {},
   "outputs": [
    {
     "name": "stdout",
     "output_type": "stream",
     "text": [
      "0    12\n",
      "1    22\n",
      "2    32\n",
      "3    42\n",
      "4    52\n",
      "5    62\n",
      "Name: sales, dtype: int64\n",
      "0     20\n",
      "1     40\n",
      "2     60\n",
      "3     80\n",
      "4    100\n",
      "5    120\n",
      "Name: sales, dtype: int64\n",
      "0     8\n",
      "1    18\n",
      "2    28\n",
      "3    38\n",
      "4    48\n",
      "5    58\n",
      "Name: sales, dtype: int64\n",
      "0     5.0\n",
      "1    10.0\n",
      "2    15.0\n",
      "3    20.0\n",
      "4    25.0\n",
      "5    30.0\n",
      "Name: sales, dtype: float64\n",
      "0     3\n",
      "1     6\n",
      "2    10\n",
      "3    13\n",
      "4    16\n",
      "5    20\n",
      "Name: sales, dtype: int64\n",
      "0     100\n",
      "1     400\n",
      "2     900\n",
      "3    1600\n",
      "4    2500\n",
      "5    3600\n",
      "Name: sales, dtype: int64\n",
      "0    1\n",
      "1    2\n",
      "2    0\n",
      "3    1\n",
      "4    2\n",
      "5    0\n",
      "Name: sales, dtype: int64\n"
     ]
    }
   ],
   "source": [
    "#arithmetic ops using functions --> add(), mul(), div(), pow(), sub(), floordiv(), mod()\n",
    "print(sales_series.loc[:,'sales'].add(2))\n",
    "print(sales_series.loc[:,'sales'].mul(2))\n",
    "print(sales_series.loc[:,'sales'].sub(2))\n",
    "print(sales_series.loc[:,'sales'].div(2))\n",
    "print(sales_series.loc[:,'sales'].floordiv(3)) #gives Quotient\n",
    "print(sales_series.loc[:,'sales'].pow(2))\n",
    "print(sales_series.loc[:,'sales'].mod(3))"
   ]
  },
  {
   "cell_type": "code",
   "execution_count": 49,
   "id": "36aae976",
   "metadata": {},
   "outputs": [
    {
     "name": "stdout",
     "output_type": "stream",
     "text": [
      "0    $10.0\n",
      "1    $20.0\n",
      "2    $30.0\n",
      "3    $40.0\n",
      "4    $50.0\n",
      "5    $60.0\n",
      "Name: sales, dtype: object\n",
      "0    $10.0\n",
      "1    $20.0\n",
      "2    $30.0\n",
      "3    $40.0\n",
      "4    $50.0\n",
      "5    $60.0\n",
      "Name: sales, dtype: object\n",
      "0    $10.0\n",
      "1    $20.0\n",
      "2    $30.0\n",
      "3    $40.0\n",
      "4    $50.0\n",
      "5    $60.0\n",
      "Name: sales, dtype: object\n",
      "0    $10.0\n",
      "1    $20.0\n",
      "2    $30.0\n",
      "3    $40.0\n",
      "4    $50.0\n",
      "5    $60.0\n",
      "Name: sales, dtype: object\n",
      "0    False\n",
      "1    False\n",
      "2    False\n",
      "3    False\n",
      "4    False\n",
      "5    False\n",
      "Name: sales, dtype: bool\n"
     ]
    }
   ],
   "source": [
    "#String methods\n",
    "\n",
    "#concatenation\n",
    "sales_series2 = '$'+((sales_series.loc[:,'sales'].astype('float')).astype('str'))\n",
    "print(sales_series2)\n",
    "\n",
    "#removing trailing , left, right spaces --> strip(), lstrip(), rstrip()\n",
    "print(sales_series2.str.strip())\n",
    "\n",
    "#Upper, Lower cases\n",
    "print(sales_series2.str.upper())\n",
    "print(sales_series2.str.lower())\n",
    "\n",
    "#Finding string\n",
    "print(sales_series2.str.contains('$200.0'))"
   ]
  },
  {
   "cell_type": "code",
   "execution_count": 72,
   "id": "2fc0f7cc",
   "metadata": {},
   "outputs": [
    {
     "name": "stdout",
     "output_type": "stream",
     "text": [
      "sales\n",
      "10    1\n",
      "20    1\n",
      "30    1\n",
      "40    1\n",
      "50    1\n",
      "60    1\n",
      "Name: count, dtype: int64\n",
      "210\n",
      "35.0\n",
      "35.0\n",
      "5\n",
      "0\n",
      "5\n",
      "720000000\n",
      "0.25    22.5\n",
      "Name: sales, dtype: float64\n"
     ]
    }
   ],
   "source": [
    "#Aggregation methods -->count(),first(),last(),mean(),median(),min(),max(),argmax(),argmin(),std(),var(),mod,prod(),sum(),quantile()\n",
    "#print(sales_series.groupby('sales').count())\n",
    "print(sales_series['sales'].value_counts())\n",
    "print(sales_series['sales'].sum())\n",
    "print(sales_series['sales'].mean())\n",
    "print(sales_series['sales'].median())\n",
    "print(sales_series['sales'].argmax())\n",
    "print(sales_series['sales'].argmin())\n",
    "print(sales_series['sales'].argmax())\n",
    "print(sales_series['sales'].prod())\n",
    "print(sales_series['sales'].quantile([0.25]))"
   ]
  },
  {
   "cell_type": "code",
   "execution_count": 8,
   "id": "4f667f17",
   "metadata": {},
   "outputs": [
    {
     "name": "stdout",
     "output_type": "stream",
     "text": [
      "0    10.0\n",
      "1    20.0\n",
      "2    30.0\n",
      "3     NaN\n",
      "4    40.0\n",
      "5     NaN\n",
      "6    50.0\n",
      "Name: col1, dtype: float64\n",
      "\n",
      "0      10\n",
      "1      20\n",
      "2      30\n",
      "3    <NA>\n",
      "4      40\n",
      "5    <NA>\n",
      "6      50\n",
      "Name: col1, dtype: object\n"
     ]
    }
   ],
   "source": [
    "# NULL values\n",
    "series = pd.Series([10,20,30,np.nan,40,np.nan,50],name='col1') #Null values using np.nan --> it's a float value under the hood, which helps in case of vectorization\n",
    "print(series,end='\\n\\n')\n",
    "\n",
    "series = pd.Series([10,20,30,pd.NA,40,pd.NA,50], name='col1') #Null values using pd.NA --> it's a integer value under the hood, which helps in case of vectorization\n",
    "print(series)"
   ]
  },
  {
   "cell_type": "code",
   "execution_count": 12,
   "id": "9b33686b",
   "metadata": {},
   "outputs": [
    {
     "name": "stdout",
     "output_type": "stream",
     "text": [
      "0    False\n",
      "1    False\n",
      "2    False\n",
      "3     True\n",
      "4    False\n",
      "5     True\n",
      "6    False\n",
      "Name: col1, dtype: bool\n",
      "\n",
      "2\n",
      "\n",
      "col1\n",
      "<NA>    2\n",
      "10      1\n",
      "20      1\n",
      "30      1\n",
      "40      1\n",
      "50      1\n",
      "Name: count, dtype: int64\n"
     ]
    }
   ],
   "source": [
    "#Finding Missing/NA/null data\n",
    "\n",
    "print(series.isna(),end='\\n\\n') # returns list for each index whether data is NA\n",
    "print(series.isna().sum(),end='\\n\\n') #--> returns total number of NA values\n",
    "print(series.value_counts(dropna=False)) #--> Returns list of all unique values with their frequencies\n"
   ]
  },
  {
   "cell_type": "code",
   "execution_count": 17,
   "id": "bf26f731",
   "metadata": {},
   "outputs": [
    {
     "name": "stdout",
     "output_type": "stream",
     "text": [
      "0      10\n",
      "1      20\n",
      "2      30\n",
      "3    <NA>\n",
      "4      40\n",
      "5    <NA>\n",
      "6      50\n",
      "Name: col1, dtype: object\n",
      "\n",
      "0    10\n",
      "1    20\n",
      "2    30\n",
      "4    40\n",
      "6    50\n",
      "Name: col1, dtype: object\n",
      "\n",
      "0    10\n",
      "1    20\n",
      "2    30\n",
      "3     0\n",
      "4    40\n",
      "5     0\n",
      "6    50\n",
      "Name: col1, dtype: int64\n"
     ]
    },
    {
     "name": "stderr",
     "output_type": "stream",
     "text": [
      "C:\\Users\\adity\\AppData\\Local\\Temp\\ipykernel_13948\\1563319486.py:13: FutureWarning: Downcasting object dtype arrays on .fillna, .ffill, .bfill is deprecated and will change in a future version. Call result.infer_objects(copy=False) instead. To opt-in to the future behavior, set `pd.set_option('future.no_silent_downcasting', True)`\n",
      "  series2.fillna(0,inplace=True)\n"
     ]
    }
   ],
   "source": [
    "#Handling missing data --> There are only 2 ways EITHER DELETE(DROP) DATA OR FILL NA DATA with some other data\n",
    "#.dropna(), .fillna()\n",
    "\n",
    "series1 = series.copy()\n",
    "print(series1,end='\\n\\n')\n",
    "\n",
    "#Drop rows which have na values\n",
    "series1.dropna(inplace=True)\n",
    "print(series1, end='\\n\\n')\n",
    "\n",
    "#Fill NA data with some another value\n",
    "series2 = series.copy()\n",
    "series2.fillna(0,inplace=True)\n",
    "print(series2)"
   ]
  },
  {
   "cell_type": "code",
   "execution_count": 23,
   "id": "167c31cd",
   "metadata": {},
   "outputs": [
    {
     "name": "stdout",
     "output_type": "stream",
     "text": [
      "0     9.0\n",
      "1    18.0\n",
      "2    27.0\n",
      "3    <NA>\n",
      "4    36.0\n",
      "5    <NA>\n",
      "6    45.0\n",
      "Name: col1, dtype: object\n"
     ]
    }
   ],
   "source": [
    "#.apply() function --> this allows us to use our custom functions on series\n",
    "\n",
    "#function for giving 10% discount on every product\n",
    "def fn(price):\n",
    "    price = price - (price*0.1)\n",
    "    return price\n",
    "\n",
    "series3 = series.copy()\n",
    "print(series3.apply(fn))"
   ]
  },
  {
   "cell_type": "code",
   "execution_count": 3,
   "id": "b2ca0b2b",
   "metadata": {},
   "outputs": [
    {
     "name": "stdout",
     "output_type": "stream",
     "text": [
      "     item  sales\n",
      "0  coffee     10\n",
      "1     tea     20\n",
      "2   sugar     30\n",
      "3   water     40\n",
      "4    milk     50\n"
     ]
    }
   ],
   "source": [
    "#DataFrames--> It is equivalent to excel spreadsheet, sql table, collection of multiple pd.Series(columns)\n",
    "\n",
    "data = {\n",
    "    'item':['coffee','tea','sugar','water','milk'],\n",
    "    'sales':[10,20,30,40,50]\n",
    "}\n",
    "\n",
    "df = pd.DataFrame(data)\n",
    "print(df)"
   ]
  },
  {
   "cell_type": "code",
   "execution_count": 36,
   "id": "d0cea873",
   "metadata": {},
   "outputs": [
    {
     "data": {
      "text/html": [
       "<div>\n",
       "<style scoped>\n",
       "    .dataframe tbody tr th:only-of-type {\n",
       "        vertical-align: middle;\n",
       "    }\n",
       "\n",
       "    .dataframe tbody tr th {\n",
       "        vertical-align: top;\n",
       "    }\n",
       "\n",
       "    .dataframe thead th {\n",
       "        text-align: right;\n",
       "    }\n",
       "</style>\n",
       "<table border=\"1\" class=\"dataframe\">\n",
       "  <thead>\n",
       "    <tr style=\"text-align: right;\">\n",
       "      <th></th>\n",
       "      <th>item</th>\n",
       "      <th>sales</th>\n",
       "    </tr>\n",
       "  </thead>\n",
       "  <tbody>\n",
       "    <tr>\n",
       "      <th>0</th>\n",
       "      <td>coffee</td>\n",
       "      <td>10</td>\n",
       "    </tr>\n",
       "    <tr>\n",
       "      <th>1</th>\n",
       "      <td>tea</td>\n",
       "      <td>20</td>\n",
       "    </tr>\n",
       "    <tr>\n",
       "      <th>2</th>\n",
       "      <td>sugar</td>\n",
       "      <td>30</td>\n",
       "    </tr>\n",
       "    <tr>\n",
       "      <th>3</th>\n",
       "      <td>water</td>\n",
       "      <td>40</td>\n",
       "    </tr>\n",
       "    <tr>\n",
       "      <th>4</th>\n",
       "      <td>milk</td>\n",
       "      <td>50</td>\n",
       "    </tr>\n",
       "  </tbody>\n",
       "</table>\n",
       "</div>"
      ],
      "text/plain": [
       "     item  sales\n",
       "0  coffee     10\n",
       "1     tea     20\n",
       "2   sugar     30\n",
       "3   water     40\n",
       "4    milk     50"
      ]
     },
     "execution_count": 36,
     "metadata": {},
     "output_type": "execute_result"
    }
   ],
   "source": [
    "df"
   ]
  },
  {
   "cell_type": "code",
   "execution_count": 37,
   "id": "5e64ce5a",
   "metadata": {},
   "outputs": [
    {
     "name": "stdout",
     "output_type": "stream",
     "text": [
      "(5, 2)\n",
      "Index(['item', 'sales'], dtype='object')\n",
      "RangeIndex(start=0, stop=5, step=1)\n",
      "[RangeIndex(start=0, stop=5, step=1), Index(['item', 'sales'], dtype='object')]\n",
      "item     object\n",
      "sales     int64\n",
      "dtype: object\n"
     ]
    }
   ],
   "source": [
    "#Properties of dataframe --> shape, columns, index, axes,dtype\n",
    "\n",
    "print(df.shape)\n",
    "print(df.columns)\n",
    "print(df.index)\n",
    "print(df.axes)\n",
    "print(df.dtypes)"
   ]
  },
  {
   "cell_type": "code",
   "execution_count": 39,
   "id": "180ea9ec",
   "metadata": {},
   "outputs": [],
   "source": [
    "df.rename(columns={'sales':'sales_amt'},inplace=True)"
   ]
  },
  {
   "cell_type": "code",
   "execution_count": 44,
   "id": "d9ffa0cc",
   "metadata": {},
   "outputs": [
    {
     "name": "stdout",
     "output_type": "stream",
     "text": [
      "     item  sales_amt\n",
      "0  coffee         10\n",
      "1     tea         20\n",
      "2   sugar         30\n",
      "\n",
      "    item  sales_amt\n",
      "2  sugar         30\n",
      "3  water         40\n",
      "4   milk         50\n",
      "\n",
      "    item  sales_amt\n",
      "3  water         40\n",
      "\n",
      "<class 'pandas.core.frame.DataFrame'>\n",
      "RangeIndex: 5 entries, 0 to 4\n",
      "Data columns (total 2 columns):\n",
      " #   Column     Non-Null Count  Dtype \n",
      "---  ------     --------------  ----- \n",
      " 0   item       5 non-null      object\n",
      " 1   sales_amt  5 non-null      int64 \n",
      "dtypes: int64(1), object(1)\n",
      "memory usage: 208.0+ bytes\n",
      "None\n",
      "\n",
      "       sales_amt\n",
      "count   5.000000\n",
      "mean   30.000000\n",
      "std    15.811388\n",
      "min    10.000000\n",
      "25%    20.000000\n",
      "50%    30.000000\n",
      "75%    40.000000\n",
      "max    50.000000\n",
      "\n"
     ]
    }
   ],
   "source": [
    "#Exploring dataframe--> .head(), .tail(), .sample(), .info(), .describe()\n",
    "print(df.head(3), end='\\n\\n')\n",
    "print(df.tail(3), end='\\n\\n')\n",
    "print(df.sample(), end='\\n\\n')\n",
    "print(df.info(), end='\\n\\n')\n",
    "print(df.describe(), end='\\n\\n')"
   ]
  },
  {
   "cell_type": "code",
   "execution_count": 46,
   "id": "b5210403",
   "metadata": {},
   "outputs": [
    {
     "data": {
      "text/html": [
       "<div>\n",
       "<style scoped>\n",
       "    .dataframe tbody tr th:only-of-type {\n",
       "        vertical-align: middle;\n",
       "    }\n",
       "\n",
       "    .dataframe tbody tr th {\n",
       "        vertical-align: top;\n",
       "    }\n",
       "\n",
       "    .dataframe thead th {\n",
       "        text-align: right;\n",
       "    }\n",
       "</style>\n",
       "<table border=\"1\" class=\"dataframe\">\n",
       "  <thead>\n",
       "    <tr style=\"text-align: right;\">\n",
       "      <th></th>\n",
       "      <th>item</th>\n",
       "      <th>sales_amt</th>\n",
       "    </tr>\n",
       "  </thead>\n",
       "  <tbody>\n",
       "    <tr>\n",
       "      <th>count</th>\n",
       "      <td>5</td>\n",
       "      <td>5.000000</td>\n",
       "    </tr>\n",
       "    <tr>\n",
       "      <th>unique</th>\n",
       "      <td>5</td>\n",
       "      <td>NaN</td>\n",
       "    </tr>\n",
       "    <tr>\n",
       "      <th>top</th>\n",
       "      <td>coffee</td>\n",
       "      <td>NaN</td>\n",
       "    </tr>\n",
       "    <tr>\n",
       "      <th>freq</th>\n",
       "      <td>1</td>\n",
       "      <td>NaN</td>\n",
       "    </tr>\n",
       "    <tr>\n",
       "      <th>mean</th>\n",
       "      <td>NaN</td>\n",
       "      <td>30.000000</td>\n",
       "    </tr>\n",
       "    <tr>\n",
       "      <th>std</th>\n",
       "      <td>NaN</td>\n",
       "      <td>15.811388</td>\n",
       "    </tr>\n",
       "    <tr>\n",
       "      <th>min</th>\n",
       "      <td>NaN</td>\n",
       "      <td>10.000000</td>\n",
       "    </tr>\n",
       "    <tr>\n",
       "      <th>25%</th>\n",
       "      <td>NaN</td>\n",
       "      <td>20.000000</td>\n",
       "    </tr>\n",
       "    <tr>\n",
       "      <th>50%</th>\n",
       "      <td>NaN</td>\n",
       "      <td>30.000000</td>\n",
       "    </tr>\n",
       "    <tr>\n",
       "      <th>75%</th>\n",
       "      <td>NaN</td>\n",
       "      <td>40.000000</td>\n",
       "    </tr>\n",
       "    <tr>\n",
       "      <th>max</th>\n",
       "      <td>NaN</td>\n",
       "      <td>50.000000</td>\n",
       "    </tr>\n",
       "  </tbody>\n",
       "</table>\n",
       "</div>"
      ],
      "text/plain": [
       "          item  sales_amt\n",
       "count        5   5.000000\n",
       "unique       5        NaN\n",
       "top     coffee        NaN\n",
       "freq         1        NaN\n",
       "mean       NaN  30.000000\n",
       "std        NaN  15.811388\n",
       "min        NaN  10.000000\n",
       "25%        NaN  20.000000\n",
       "50%        NaN  30.000000\n",
       "75%        NaN  40.000000\n",
       "max        NaN  50.000000"
      ]
     },
     "execution_count": 46,
     "metadata": {},
     "output_type": "execute_result"
    }
   ],
   "source": [
    "df.describe(include=\"all\") #detailed description of all columns statistical analysis"
   ]
  },
  {
   "cell_type": "code",
   "execution_count": 49,
   "id": "fc21f7a2",
   "metadata": {},
   "outputs": [
    {
     "name": "stdout",
     "output_type": "stream",
     "text": [
      "0    10\n",
      "1    20\n",
      "2    30\n",
      "3    40\n",
      "4    50\n",
      "Name: sales_amt, dtype: int64\n",
      "\n",
      "\n",
      "0    10\n",
      "1    20\n",
      "2    30\n",
      "3    40\n",
      "4    50\n",
      "Name: sales_amt, dtype: int64\n"
     ]
    }
   ],
   "source": [
    "#Access columns all data (Series) --> there are 2 ways either df['col name'] or df.'col name'\n",
    "\n",
    "meth1 = df['sales_amt']\n",
    "print(meth1)\n",
    "print('\\n')\n",
    "meth2 = df.sales_amt\n",
    "print(meth2)"
   ]
  },
  {
   "cell_type": "code",
   "execution_count": 5,
   "id": "3289d8cc",
   "metadata": {},
   "outputs": [
    {
     "name": "stdout",
     "output_type": "stream",
     "text": [
      "30.0\n",
      "5\n",
      "150\n",
      "[10 20 30 40 50]\n"
     ]
    }
   ],
   "source": [
    "#Apply inbuilt aggregation/mathematical function of columns of dataframe\n",
    "print(df['sales'].mean())\n",
    "print(df['sales'].nunique()) #give number of unique elements in column\n",
    "print(df['sales'].sum())\n",
    "print(df['sales'].unique()) # returns list of all unique elements"
   ]
  },
  {
   "cell_type": "code",
   "execution_count": 8,
   "id": "3d8e2af1",
   "metadata": {},
   "outputs": [
    {
     "name": "stdout",
     "output_type": "stream",
     "text": [
      "   sales    item\n",
      "0     10  coffee\n",
      "1     20     tea\n",
      "2     30   sugar\n",
      "3     40   water\n",
      "4     50    milk\n"
     ]
    }
   ],
   "source": [
    "#Multi selection of rows by column name\n",
    "print(df[['sales','item']])"
   ]
  },
  {
   "cell_type": "code",
   "execution_count": 11,
   "id": "2200e0ae",
   "metadata": {},
   "outputs": [
    {
     "name": "stdout",
     "output_type": "stream",
     "text": [
      "     item  sales\n",
      "0  coffee     10\n",
      "1     tea     20\n",
      "2   sugar     30\n",
      "3   water     40\n",
      "4    milk     50\n",
      "     item  sales\n",
      "0  coffee     10\n",
      "1     tea     20\n",
      "2   sugar     30\n"
     ]
    }
   ],
   "source": [
    "#multi selection of columns & rows with .iloc[]\n",
    "print(df.iloc[:,0:]) #all rows and 0(first) to last index of column\n",
    "print(df.iloc[0:3,:]) # all columns and 0,1,2 index of rows"
   ]
  },
  {
   "cell_type": "code",
   "execution_count": 15,
   "id": "71465319",
   "metadata": {},
   "outputs": [
    {
     "name": "stdout",
     "output_type": "stream",
     "text": [
      "     item  sales\n",
      "0  coffee     10\n",
      "1     tea     20\n",
      "2   sugar     30\n",
      "3   water     40\n",
      "4    milk     50\n"
     ]
    }
   ],
   "source": [
    "#multiselection of columns with .loc[]\n",
    "print(df.loc[:,'item':'sales']) # all rows and columns from items to sales (left to right order for columns)"
   ]
  },
  {
   "cell_type": "code",
   "execution_count": 27,
   "id": "efb17871",
   "metadata": {},
   "outputs": [
    {
     "name": "stdout",
     "output_type": "stream",
     "text": [
      "   sales\n",
      "0     10\n",
      "1     20\n",
      "2     30\n",
      "3     40\n",
      "4     50\n",
      "\n",
      "    item  sales\n",
      "1    tea     20\n",
      "2  sugar     30\n",
      "3  water     40\n",
      "4   milk     50\n",
      "\n",
      "    item  sales\n",
      "3  water     40\n",
      "4   milk     50\n",
      "\n"
     ]
    }
   ],
   "source": [
    "#dropping data, data can be dropped in 2 ways row or col fashion\n",
    "# we can drop data using .drop() function, axis=0 to drop rows, axis=1 to drop cols\n",
    "\n",
    "#drop column\n",
    "print(df.drop('item',axis=1),end='\\n\\n')\n",
    "\n",
    "#drop rows\n",
    "print(df.drop([0], axis=0),end='\\n\\n') #dropping single row\n",
    "print(df.drop([0,1,2],axis=0), end='\\n\\n') #dropping multiple rows (at index 0 1 2)"
   ]
  },
  {
   "cell_type": "code",
   "execution_count": 35,
   "id": "a254d7af",
   "metadata": {},
   "outputs": [
    {
     "name": "stdout",
     "output_type": "stream",
     "text": [
      "     item  sales\n",
      "0  coffee     10\n",
      "1     tea     20\n",
      "2   sugar     30\n",
      "3   water     40\n",
      "4    milk     50\n"
     ]
    }
   ],
   "source": [
    "#drop duplicates\n",
    "df1=df.copy()\n",
    "print(df1.drop_duplicates(subset='item',keep=\"first\",ignore_index=True))"
   ]
  },
  {
   "cell_type": "code",
   "execution_count": 37,
   "id": "ffefaa36",
   "metadata": {},
   "outputs": [
    {
     "name": "stdout",
     "output_type": "stream",
     "text": [
      "item     0\n",
      "sales    0\n",
      "dtype: int64\n",
      "\n",
      "<class 'pandas.core.frame.DataFrame'>\n",
      "RangeIndex: 5 entries, 0 to 4\n",
      "Data columns (total 2 columns):\n",
      " #   Column  Non-Null Count  Dtype \n",
      "---  ------  --------------  ----- \n",
      " 0   item    5 non-null      object\n",
      " 1   sales   5 non-null      int64 \n",
      "dtypes: int64(1), object(1)\n",
      "memory usage: 208.0+ bytes\n",
      "None\n"
     ]
    }
   ],
   "source": [
    "#Identifying missing data --> 2 ways --> df.isna().sum() and df.info() methods\n",
    "\n",
    "print(df.isna().sum(), end='\\n\\n')\n",
    "print(df.info())"
   ]
  },
  {
   "cell_type": "code",
   "execution_count": 3,
   "id": "5bc99a29",
   "metadata": {},
   "outputs": [
    {
     "name": "stdout",
     "output_type": "stream",
     "text": [
      "   col1  col2\n",
      "0  <NA>    yo\n",
      "1    10   yo1\n",
      "2    20  <NA>\n",
      "3    30   yo2\n",
      "4    40  <NA>\n",
      "5  <NA>  <NA>\n",
      "\n",
      "   col1 col2\n",
      "0     0   yo\n",
      "1    10  yo1\n",
      "2    20    0\n",
      "3    30  yo2\n",
      "4    40    0\n",
      "5     0    0\n",
      "\n",
      "   col1  col2\n",
      "0     0    yo\n",
      "1    10   yo1\n",
      "2    20  <NA>\n",
      "3    30   yo2\n",
      "4    40  <NA>\n",
      "5     0  <NA>\n"
     ]
    },
    {
     "name": "stderr",
     "output_type": "stream",
     "text": [
      "C:\\Users\\adity\\AppData\\Local\\Temp\\ipykernel_13696\\3599555472.py:11: FutureWarning: Downcasting object dtype arrays on .fillna, .ffill, .bfill is deprecated and will change in a future version. Call result.infer_objects(copy=False) instead. To opt-in to the future behavior, set `pd.set_option('future.no_silent_downcasting', True)`\n",
      "  print(dfna.fillna(0), end=\"\\n\\n\") #fill 0 in entire dataframe where NA is present\n",
      "C:\\Users\\adity\\AppData\\Local\\Temp\\ipykernel_13696\\3599555472.py:12: FutureWarning: Downcasting object dtype arrays on .fillna, .ffill, .bfill is deprecated and will change in a future version. Call result.infer_objects(copy=False) instead. To opt-in to the future behavior, set `pd.set_option('future.no_silent_downcasting', True)`\n",
      "  print(dfna.fillna({'col1':0})) #fill 0 wherever NA is present only in SPECIFIC COLUMN\n"
     ]
    }
   ],
   "source": [
    "#fill missing data --> df.fillna() method\n",
    "\n",
    "dictdfna = {\n",
    "    'col1':[pd.NA,10,20,30,40,pd.NA],\n",
    "    'col2':['yo','yo1',pd.NA,'yo2',pd.NA,pd.NA]\n",
    "}\n",
    "\n",
    "dfna = pd.DataFrame(dictdfna)\n",
    "print(dfna,end='\\n\\n')\n",
    "\n",
    "print(dfna.fillna(0), end=\"\\n\\n\") #fill 0 in entire dataframe where NA is present\n",
    "print(dfna.fillna({'col1':0})) #fill 0 wherever NA is present only in SPECIFIC COLUMN"
   ]
  },
  {
   "cell_type": "code",
   "execution_count": 4,
   "id": "ab79d11c",
   "metadata": {},
   "outputs": [
    {
     "name": "stdout",
     "output_type": "stream",
     "text": [
      "  col1 col2\n",
      "1   10  yo1\n",
      "3   30  yo2\n",
      "\n",
      "  col1  col2\n",
      "1   10   yo1\n",
      "2   20  <NA>\n",
      "3   30   yo2\n",
      "4   40  <NA>\n"
     ]
    }
   ],
   "source": [
    "#droppping NA values rows --> .dropna()\n",
    "print(dfna.dropna(), end='\\n\\n') # Drop all the rows in entire DF wherever NA is present even in single column\n",
    "print(dfna.dropna(subset=['col1'])) # Drop all rows wherever NA is present in SPECIFIC COLUMN(S)"
   ]
  },
  {
   "cell_type": "code",
   "execution_count": 15,
   "id": "1a3756b1",
   "metadata": {},
   "outputs": [
    {
     "name": "stdout",
     "output_type": "stream",
     "text": [
      "  col1 col2\n",
      "1   10  yo1\n",
      "\n",
      "1    10\n",
      "Name: col1, dtype: object\n",
      "\n",
      "\n",
      "  col1\n",
      "1   10\n",
      "\n",
      "\n",
      "  col1 col2\n",
      "1   10  yo1\n"
     ]
    }
   ],
   "source": [
    "#Filtering data using .loc[] command and printing all rows\n",
    "print(dfna.loc[dfna['col2']=='yo1'],end='\\n\\n') #all columns & rows where rows in col2 == 'yo1'\n",
    "print((dfna.loc[dfna['col2']=='yo1']).loc[:,'col1']) #all rows where col2=='yo1' but only column specific column(col1) displayed\n",
    "#OR\n",
    "print('\\n')\n",
    "print(dfna.loc[dfna['col2']=='yo1', [\"col1\"]])\n",
    "print('\\n')\n",
    "\n",
    "#For multiple conditions check\n",
    "condition = (dfna['col1']==10) & (dfna['col2']=='yo1')\n",
    "print(dfna.loc[condition])"
   ]
  },
  {
   "cell_type": "code",
   "execution_count": 16,
   "id": "7068386d",
   "metadata": {},
   "outputs": [
    {
     "name": "stdout",
     "output_type": "stream",
     "text": [
      "  col1 col2\n",
      "1   10  yo1\n"
     ]
    }
   ],
   "source": [
    "#Query df using df.query()\n",
    "print(dfna.query(\" col1 in [10] and col2 in 'yo1' \"))"
   ]
  },
  {
   "cell_type": "code",
   "execution_count": 3,
   "id": "66e15934",
   "metadata": {},
   "outputs": [
    {
     "name": "stdout",
     "output_type": "stream",
     "text": [
      "       col3 col1 col4 col2\n",
      "coffee   10   20   30   40\n",
      "sugar   yo1  yo2  yo3  yo4\n",
      "milk      5    6    2    1\n",
      "\n",
      "       col3 col1 col4 col2\n",
      "coffee   10   20   30   40\n",
      "milk      5    6    2    1\n",
      "sugar   yo1  yo2  yo3  yo4\n",
      "\n",
      "       col1 col2 col3 col4\n",
      "coffee   20   40   10   30\n",
      "sugar   yo2  yo4  yo1  yo3\n",
      "milk      6    1    5    2\n"
     ]
    }
   ],
   "source": [
    "#Sorting data frame by index\n",
    "\n",
    "##create dataframe on custom index\n",
    "data = [\n",
    "    [10,20,30,40],\n",
    "    ['yo1','yo2','yo3','yo4'],\n",
    "    [5,6,2,1]\n",
    "]\n",
    "custom_index = ['coffee','sugar','milk']\n",
    "df = pd.DataFrame(data, index=custom_index, columns=['col3','col1','col4','col2'])\n",
    "print(df, end='\\n\\n')\n",
    "\n",
    "#Sort df by custom index (axis=0)\n",
    "print(df.sort_index(axis=0), end='\\n\\n')\n",
    "\n",
    "#sort df by columns index(names) (axis=1)\n",
    "print(df.sort_index(axis=1))"
   ]
  },
  {
   "cell_type": "code",
   "execution_count": 4,
   "id": "d00ada71",
   "metadata": {},
   "outputs": [
    {
     "name": "stdout",
     "output_type": "stream",
     "text": [
      "       col1 col2 col4 col3\n",
      "coffee   20   40   30   10\n",
      "sugar   yo2  yo4  yo3  yo1\n",
      "milk      6    1    2    5\n"
     ]
    }
   ],
   "source": [
    "#Change the order of column of df--> df.reindex()\n",
    "\n",
    "print(df.reindex(labels=['col1','col2','col4','col3'],axis=1))"
   ]
  },
  {
   "cell_type": "code",
   "execution_count": 5,
   "id": "3ea0d6fa",
   "metadata": {},
   "outputs": [
    {
     "name": "stdout",
     "output_type": "stream",
     "text": [
      "       col3 col1 col4 col2 newcol1\n",
      "coffee   10   20   30   40     105\n",
      "sugar   yo1  yo2  yo3  yo4    yo15\n",
      "milk      5    6    2    1      55\n"
     ]
    }
   ],
   "source": [
    "#Create new column --> just give new name inside df[] for eg df['new col'] = df['old_col']*2\n",
    "df1 = df.copy()\n",
    "df1['newcol1'] = (df1['col3'].astype('str'))+'5'\n",
    "print(df1)"
   ]
  },
  {
   "cell_type": "code",
   "execution_count": 6,
   "id": "ac3dcb93",
   "metadata": {},
   "outputs": [
    {
     "name": "stdout",
     "output_type": "stream",
     "text": [
      "       col3 col1 col4 col2 newcol1 newColWithChoice\n",
      "coffee   10   20   30   40     105               ok\n",
      "sugar   yo1  yo2  yo3  yo4    yo15            large\n",
      "milk      5    6    2    1      55            small\n"
     ]
    }
   ],
   "source": [
    "#Column creation using np.select()\n",
    "conditions=[\n",
    "    (df['col3'] == 'yo1'),\n",
    "    (df['col3'] == 10),\n",
    "    (df['col3'] == 5)\n",
    "]\n",
    "choices = ['large','ok','small']\n",
    "\n",
    "df1['newColWithChoice'] = np.select(conditions, choices, default='dontknow')\n",
    "print(df1)"
   ]
  },
  {
   "cell_type": "code",
   "execution_count": 7,
   "id": "cb21284f",
   "metadata": {},
   "outputs": [
    {
     "name": "stdout",
     "output_type": "stream",
     "text": [
      "       col3 col1 col4 col2 newcol1 newColWithChoice newcol2    newcol3\n",
      "coffee   10   20   30   40     105               ok   40@!#   20123%^&\n",
      "sugar   yo1  yo2  yo3  yo4    yo15            large  yo4@!#  yo2123%^&\n",
      "milk      5    6    2    1      55            small    1@!#    6123%^&\n"
     ]
    }
   ],
   "source": [
    "#Create multiple columns using .assign() method\n",
    "print(df1.assign(newcol2=(((df1[\"col2\"].astype('str')))+'@!#'), newcol3=(((df1[\"col1\"].astype('str')))+'123%^&')))"
   ]
  },
  {
   "cell_type": "code",
   "execution_count": 8,
   "id": "c9e6ec62",
   "metadata": {},
   "outputs": [
    {
     "name": "stdout",
     "output_type": "stream",
     "text": [
      "<class 'pandas.core.frame.DataFrame'>\n",
      "Index: 3 entries, coffee to milk\n",
      "Data columns (total 6 columns):\n",
      " #   Column            Non-Null Count  Dtype \n",
      "---  ------            --------------  ----- \n",
      " 0   col3              3 non-null      object\n",
      " 1   col1              3 non-null      object\n",
      " 2   col4              3 non-null      object\n",
      " 3   col2              3 non-null      object\n",
      " 4   newcol1           3 non-null      object\n",
      " 5   newColWithChoice  3 non-null      object\n",
      "dtypes: object(6)\n",
      "memory usage: 1.2 KB\n",
      "None\n",
      "\n",
      "Index               294\n",
      "col3                132\n",
      "col1                132\n",
      "col4                132\n",
      "col2                132\n",
      "newcol1             180\n",
      "newColWithChoice    183\n",
      "dtype: int64\n",
      "\n",
      "1185bytes\n"
     ]
    }
   ],
   "source": [
    "#Get detail info of memory usage --> Important for large data sets\n",
    "print(df1.info(memory_usage=\"deep\"), end='\\n\\n')\n",
    "print(df1.memory_usage(deep=True), end='\\n\\n')\n",
    "print(str(df1.memory_usage(deep=True).sum()) + 'bytes')"
   ]
  },
  {
   "cell_type": "code",
   "execution_count": 9,
   "id": "cc6199ba",
   "metadata": {},
   "outputs": [
    {
     "name": "stdout",
     "output_type": "stream",
     "text": [
      "col1\n",
      "6        1\n",
      "20      40\n",
      "yo2    yo4\n",
      "Name: col2, dtype: object\n",
      "\n",
      "     col3 col4 col2 newcol1 newColWithChoice\n",
      "col1                                        \n",
      "6       5    2    1      55            small\n",
      "20     10   30   40     105               ok\n",
      "yo2   yo1  yo3  yo4    yo15            large\n"
     ]
    }
   ],
   "source": [
    "#group by function --> df.groupby(some col name)\n",
    "print(df1.groupby('col1')['col2'].sum(),end='\\n\\n')\n",
    "print(df1.groupby('col1').sum())"
   ]
  },
  {
   "cell_type": "code",
   "execution_count": 42,
   "id": "0e0c7ac2",
   "metadata": {},
   "outputs": [
    {
     "name": "stdout",
     "output_type": "stream",
     "text": [
      "  products  weights  price  units brand\n",
      "0   coffee        2     10     20   yo1\n",
      "1    bread        4     20     40   yo4\n",
      "2   coffee        8     50     30   yo2\n",
      "3    water        1     90      2   yo3\n",
      "4    water        6     60      7   yo5\n",
      "\n",
      "          weights  price  units   brand\n",
      "products                               \n",
      "bread           4     20     40     yo4\n",
      "coffee         10     60     50  yo1yo2\n",
      "water           7    150      9  yo3yo5\n",
      "\n",
      "products\n",
      "bread      4\n",
      "coffee    10\n",
      "water      7\n",
      "Name: weights, dtype: int64\n",
      "\n",
      "\n",
      "         weights\n",
      "             sum\n",
      "products        \n",
      "bread          4\n",
      "coffee        10\n",
      "water          7\n"
     ]
    }
   ],
   "source": [
    "#aggregation function with groupby --> df.groupby(some col).agg(some aggreagtion measure like SUM)\n",
    "\n",
    "data = {\n",
    "    'products':['coffee','bread','coffee','water','water'],\n",
    "    'weights':[2,4,8,1,6],\n",
    "    'price':[10,20,50,90,60],\n",
    "    'units':[20,40,30,2,7],\n",
    "    'brand':['yo1','yo4','yo2','yo3','yo5']\n",
    "}\n",
    "\n",
    "df = pd.DataFrame(data)\n",
    "print(df, end='\\n\\n')\n",
    "\n",
    "#groupby + aggregation\n",
    "print(df.groupby(['products']).agg('sum'), end='\\n\\n') #groupby will be applied on products and willbe aggregated using (sum) for all cols\n",
    "print(df.groupby(['products']).agg('sum')['weights']) # will represent total weights taken by each category of product\n",
    "print('\\n')\n",
    "print(df.groupby(['products']).agg({'weights':['sum']})) # will represent total weights taken by each category of product\n"
   ]
  },
  {
   "cell_type": "code",
   "execution_count": 43,
   "id": "f8e5b548",
   "metadata": {},
   "outputs": [
    {
     "name": "stdout",
     "output_type": "stream",
     "text": [
      "         weights      units    \n",
      "             sum mean   min max\n",
      "products                       \n",
      "bread          4  4.0    40  40\n",
      "coffee        10  5.0    20  30\n",
      "water          7  3.5     2   7\n"
     ]
    }
   ],
   "source": [
    "#groupby and MULTIPLE AGGREGATION on multiple columns\n",
    "print(df.groupby(['products']).agg({'weights':['sum','mean'],'units':['min','max']}))"
   ]
  },
  {
   "cell_type": "code",
   "execution_count": 44,
   "id": "01a8ebf1",
   "metadata": {},
   "outputs": [
    {
     "name": "stdout",
     "output_type": "stream",
     "text": [
      "2024-08-09 13:19:11.846711\n",
      "2024-08-09\n"
     ]
    }
   ],
   "source": [
    "#Working with datetime\n",
    "\n",
    "from datetime import datetime\n",
    "now = datetime.now()\n",
    "print(now)\n",
    "print(str(now)[0:10])"
   ]
  },
  {
   "cell_type": "code",
   "execution_count": 47,
   "id": "13588811",
   "metadata": {},
   "outputs": [
    {
     "name": "stdout",
     "output_type": "stream",
     "text": [
      "  products  weights  price  units brand        date\n",
      "0   coffee        2     10     20   yo1  2024-08-09\n",
      "1    bread        4     20     40   yo4  2017-04-23\n",
      "2   coffee        8     50     30   yo2  2016-09-15\n",
      "3    water        1     90      2   yo3  2021-10-29\n",
      "4    water        6     60      7   yo5  2020-09-12\n"
     ]
    }
   ],
   "source": [
    "#Adding Datetime column using a numpy array then typecasting it into datetime64[ns]\n",
    "df1 = df.copy()\n",
    "df1['date'] = np.array(['2024-08-09','2017-04-23','2016-09-15','2021-10-29','2020-09-12'])\n",
    "df1['date'].astype('datetime64[ns]')\n",
    "print(df1)"
   ]
  },
  {
   "cell_type": "code",
   "execution_count": 51,
   "id": "e5b711ea",
   "metadata": {},
   "outputs": [
    {
     "name": "stdout",
     "output_type": "stream",
     "text": [
      "  products  weights  price  units brand        date      date2\n",
      "0   coffee        2     10     20   yo1  2024-08-09 2024-08-09\n",
      "1    bread        4     20     40   yo4  2017-04-23 2017-04-23\n",
      "2   coffee        8     50     30   yo2  2016-09-15 2016-09-15\n",
      "3    water        1     90      2   yo3  2021-10-29 2021-10-29\n",
      "4    water        6     60      7   yo5  2020-09-12 2020-09-12\n"
     ]
    }
   ],
   "source": [
    "#Adding Datetime column using numpyarray & pd.toDateTime() method\n",
    "df2 = df1.copy()\n",
    "l1 = np.array(['2024-08-09','2017-04-23','2016-09-15','2021-10-29','2020-09-12'])\n",
    "df2['date2'] = pd.to_datetime(l1,format=\"%Y-%m-%d\",errors=\"coerce\")#we're using np.array to put data in col then defining format\n",
    "print(df2)"
   ]
  },
  {
   "cell_type": "code",
   "execution_count": 52,
   "id": "e70ab9cd",
   "metadata": {},
   "outputs": [
    {
     "name": "stdout",
     "output_type": "stream",
     "text": [
      "  products  weights  price  units brand        date      date2    date_str\n",
      "0   coffee        2     10     20   yo1  2024-08-09 2024-08-09  2024-08-09\n",
      "1    bread        4     20     40   yo4  2017-04-23 2017-04-23  2017-04-23\n",
      "2   coffee        8     50     30   yo2  2016-09-15 2016-09-15  2016-09-15\n",
      "3    water        1     90      2   yo3  2021-10-29 2021-10-29  2021-10-29\n",
      "4    water        6     60      7   yo5  2020-09-12 2020-09-12  2020-09-12\n"
     ]
    }
   ],
   "source": [
    "#Convert datetime column to string\n",
    "df2['date_str'] = df2['date2'].astype('str')\n",
    "print(df2)"
   ]
  },
  {
   "cell_type": "code",
   "execution_count": 59,
   "id": "a8fad3ff",
   "metadata": {},
   "outputs": [
    {
     "name": "stdout",
     "output_type": "stream",
     "text": [
      "  products  weights  price  units brand        date      date2    date_str  \\\n",
      "0   coffee        2     10     20   yo1  2024-08-09 2024-08-09  2024-08-09   \n",
      "1    bread        4     20     40   yo4  2017-04-23 2017-04-23  2017-04-23   \n",
      "2   coffee        8     50     30   yo2  2016-09-15 2016-09-15  2016-09-15   \n",
      "3    water        1     90      2   yo3  2021-10-29 2021-10-29  2021-10-29   \n",
      "4    water        6     60      7   yo5  2020-09-12 2020-09-12  2020-09-12   \n",
      "\n",
      "                date3  \n",
      "0     2024-August-Fri  \n",
      "1      2017-April-Sun  \n",
      "2  2016-September-Thu  \n",
      "3    2021-October-Fri  \n",
      "4  2020-September-Sat  \n"
     ]
    }
   ],
   "source": [
    "#extract different features of datetime like(month name, day name etc) column to string using dt.strftime() function\n",
    "df2 = df2.assign(date3=df2['date2'].dt.strftime(\"%Y-%B-%a\"))\n",
    "print(df2)"
   ]
  },
  {
   "cell_type": "code",
   "execution_count": 66,
   "id": "4c063f9e",
   "metadata": {},
   "outputs": [
    {
     "name": "stdout",
     "output_type": "stream",
     "text": [
      "0    2024\n",
      "1    2017\n",
      "2    2016\n",
      "3    2021\n",
      "4    2020\n",
      "Name: date2, dtype: int32\n",
      "0    4\n",
      "1    6\n",
      "2    3\n",
      "3    4\n",
      "4    5\n",
      "Name: date2, dtype: int32\n",
      "0     8\n",
      "1     4\n",
      "2     9\n",
      "3    10\n",
      "4     9\n",
      "Name: date2, dtype: int32\n",
      "0     9\n",
      "1    23\n",
      "2    15\n",
      "3    29\n",
      "4    12\n",
      "Name: date2, dtype: int32\n"
     ]
    }
   ],
   "source": [
    "#Extract DataTime components from datatime columns\n",
    "print(df2['date2'].dt.year)\n",
    "print(df2['date2'].dt.dayofweek)\n",
    "print(df2['date2'].dt.month)\n",
    "print(df2['date2'].dt.day)"
   ]
  },
  {
   "cell_type": "code",
   "execution_count": 71,
   "id": "e97d8926",
   "metadata": {},
   "outputs": [
    {
     "name": "stdout",
     "output_type": "stream",
     "text": [
      "  products  weights  price  units brand        date      date2    date_str  \\\n",
      "0   coffee        2     10     20   yo1  2024-08-09 2024-08-09  2024-08-09   \n",
      "1    bread        4     20     40   yo4  2017-04-23 2017-04-23  2017-04-23   \n",
      "2   coffee        8     50     30   yo2  2016-09-15 2016-09-15  2016-09-15   \n",
      "3    water        1     90      2   yo3  2021-10-29 2021-10-29  2021-10-29   \n",
      "4    water        6     60      7   yo5  2020-09-12 2020-09-12  2020-09-12   \n",
      "\n",
      "                date3  \n",
      "0     2024-August-Fri  \n",
      "1      2017-April-Sun  \n",
      "2  2016-September-Thu  \n",
      "3    2021-October-Fri  \n",
      "4  2020-September-Sat  \n",
      "\n",
      "  products  weights  price  units brand        date\n",
      "0   coffee        2     10     20   yo1  2024-08-09\n",
      "1    bread        4     20     40   yo4  2017-04-23\n",
      "2   coffee        8     50     30   yo2  2016-09-15\n",
      "3    water        1     90      2   yo3  2021-10-29\n",
      "4    water        6     60      7   yo5  2020-09-12\n",
      "\n",
      "  products  weights  price  units brand        date      date2    date_str  \\\n",
      "0   coffee        2     10     20   yo1  2024-08-09 2024-08-09  2024-08-09   \n",
      "1    bread        4     20     40   yo4  2017-04-23 2017-04-23  2017-04-23   \n",
      "2   coffee        8     50     30   yo2  2016-09-15 2016-09-15  2016-09-15   \n",
      "3    water        1     90      2   yo3  2021-10-29 2021-10-29  2021-10-29   \n",
      "4    water        6     60      7   yo5  2020-09-12 2020-09-12  2020-09-12   \n",
      "0   coffee        2     10     20   yo1  2024-08-09        NaT         NaN   \n",
      "1    bread        4     20     40   yo4  2017-04-23        NaT         NaN   \n",
      "2   coffee        8     50     30   yo2  2016-09-15        NaT         NaN   \n",
      "3    water        1     90      2   yo3  2021-10-29        NaT         NaN   \n",
      "4    water        6     60      7   yo5  2020-09-12        NaT         NaN   \n",
      "\n",
      "                date3  \n",
      "0     2024-August-Fri  \n",
      "1      2017-April-Sun  \n",
      "2  2016-September-Thu  \n",
      "3    2021-October-Fri  \n",
      "4  2020-September-Sat  \n",
      "0                 NaN  \n",
      "1                 NaN  \n",
      "2                 NaN  \n",
      "3                 NaN  \n",
      "4                 NaN  \n"
     ]
    }
   ],
   "source": [
    "#Concate 2 dataframes\n",
    "print(df2, end='\\n\\n')\n",
    "print(df1, end='\\n\\n')\n",
    "print(pd.concat([df2,df1]))"
   ]
  },
  {
   "cell_type": "code",
   "execution_count": null,
   "id": "20365cae",
   "metadata": {},
   "outputs": [],
   "source": []
  },
  {
   "cell_type": "code",
   "execution_count": null,
   "id": "a97d37ab",
   "metadata": {},
   "outputs": [],
   "source": []
  },
  {
   "cell_type": "code",
   "execution_count": null,
   "id": "04b98ac0",
   "metadata": {},
   "outputs": [],
   "source": []
  },
  {
   "cell_type": "code",
   "execution_count": null,
   "id": "2b02e0d0",
   "metadata": {},
   "outputs": [],
   "source": []
  },
  {
   "cell_type": "code",
   "execution_count": null,
   "id": "9cfb353a",
   "metadata": {},
   "outputs": [],
   "source": []
  },
  {
   "cell_type": "code",
   "execution_count": null,
   "id": "0b238d8d",
   "metadata": {},
   "outputs": [],
   "source": []
  },
  {
   "cell_type": "code",
   "execution_count": null,
   "id": "6853c41f",
   "metadata": {},
   "outputs": [],
   "source": []
  },
  {
   "cell_type": "code",
   "execution_count": null,
   "id": "09e8a438",
   "metadata": {},
   "outputs": [],
   "source": []
  },
  {
   "cell_type": "code",
   "execution_count": null,
   "id": "3aebc366",
   "metadata": {},
   "outputs": [],
   "source": []
  },
  {
   "cell_type": "code",
   "execution_count": null,
   "id": "fb786f1d",
   "metadata": {},
   "outputs": [],
   "source": []
  },
  {
   "cell_type": "code",
   "execution_count": null,
   "id": "c079df0b",
   "metadata": {},
   "outputs": [],
   "source": []
  },
  {
   "cell_type": "code",
   "execution_count": null,
   "id": "9d96f052",
   "metadata": {},
   "outputs": [],
   "source": []
  },
  {
   "cell_type": "code",
   "execution_count": null,
   "id": "85783f28",
   "metadata": {},
   "outputs": [],
   "source": []
  },
  {
   "cell_type": "code",
   "execution_count": null,
   "id": "cba7b98e",
   "metadata": {},
   "outputs": [],
   "source": []
  },
  {
   "cell_type": "code",
   "execution_count": null,
   "id": "79635572",
   "metadata": {},
   "outputs": [],
   "source": []
  },
  {
   "cell_type": "code",
   "execution_count": null,
   "id": "96368a80",
   "metadata": {},
   "outputs": [],
   "source": []
  },
  {
   "cell_type": "code",
   "execution_count": null,
   "id": "551e47c1",
   "metadata": {},
   "outputs": [],
   "source": []
  },
  {
   "cell_type": "code",
   "execution_count": null,
   "id": "531c3841",
   "metadata": {},
   "outputs": [],
   "source": []
  },
  {
   "cell_type": "code",
   "execution_count": null,
   "id": "174d7ee3",
   "metadata": {},
   "outputs": [],
   "source": []
  },
  {
   "cell_type": "code",
   "execution_count": null,
   "id": "0c9cecaa",
   "metadata": {},
   "outputs": [],
   "source": []
  },
  {
   "cell_type": "code",
   "execution_count": null,
   "id": "9e3fc655",
   "metadata": {},
   "outputs": [],
   "source": []
  }
 ],
 "metadata": {
  "kernelspec": {
   "display_name": "Python 3 (ipykernel)",
   "language": "python",
   "name": "python3"
  },
  "language_info": {
   "codemirror_mode": {
    "name": "ipython",
    "version": 3
   },
   "file_extension": ".py",
   "mimetype": "text/x-python",
   "name": "python",
   "nbconvert_exporter": "python",
   "pygments_lexer": "ipython3",
   "version": "3.10.9"
  }
 },
 "nbformat": 4,
 "nbformat_minor": 5
}
